{
 "cells": [
  {
   "cell_type": "code",
   "execution_count": 1,
   "metadata": {
    "collapsed": true
   },
   "outputs": [],
   "source": [
    "%matplotlib inline\n",
    "\n",
    "from __future__ import print_function\n",
    "\n",
    "import math\n",
    "import cmath\n",
    "import re\n",
    "import os\n",
    "import glob\n",
    "import time\n",
    "from datetime import datetime\n",
    "from IPython import display\n",
    "from matplotlib import cm\n",
    "from matplotlib import gridspec\n",
    "from matplotlib import pyplot as plt\n",
    "import numpy as np\n",
    "import pandas as pd\n",
    "from sklearn.metrics import log_loss, accuracy_score, confusion_matrix\n",
    "import tensorflow as tf\n",
    "from tensorflow.python.data import Dataset\n",
    "import seaborn as sns\n",
    "import tensorflow_hub as hub\n",
    "from skimage.transform import resize\n",
    "from scipy.misc import imresize\n",
    "from contextlib import contextmanager\n",
    "import shutil\n",
    "\n",
    "tf.logging.set_verbosity(tf.logging.ERROR)\n",
    "pd.options.display.max_rows = 10\n",
    "pd.options.display.float_format = '{:.1f}'.format\n",
    "\n",
    "# DEBUGGING AND OUTPUT\n",
    "PLOT = True\n",
    "SUMMARIZE = True\n",
    "TEST = True\n",
    "\n",
    "# NOTES\n",
    "NOTES = \"mobilenetv2-96\"\n",
    "\n",
    "# Vars\n",
    "target_label = \"label\"\n",
    "id_label = \"ImageId\"\n",
    "RESET_ALL = True\n",
    "TYPE = \"TLNN\"\n",
    "OUTSTR = \"A{:.4f}_Type{}_LR{}_S{}_B{}{}.csv\"\n",
    "#TFHUB_MODULE = \"https://tfhub.dev/google/imagenet/mobilenet_v2_035_96/classification/1\"\n",
    "TFHUB_MODULE = \"https://tfhub.dev/google/imagenet/mobilenet_v2_035_96/feature_vector/1\"\n",
    "BOTTLENECK_DIR = '/tmp/bottlenecks/'\n",
    "BOTTLENECK_TRAIN_DIR = '/tmp/bottlenecks/train/'\n",
    "BOTTLENECK_EVAL_DIR = '/tmp/bottlenecks/eval/'\n",
    "\n",
    "if TEST:\n",
    "    LEARNING_STEPS = 1000\n",
    "    LEARNING_RATE = 0.01\n",
    "    BATCH_SIZE = 50\n",
    "    VERBOSITY = 100\n",
    "    LOG_STEP = 25\n",
    "    test_size = 200\n",
    "else:\n",
    "    LEARNING_STEPS = 2000\n",
    "    LEARNING_RATE = 0.01\n",
    "    BATCH_SIZE = 100\n",
    "    VERBOSITY = 1000\n",
    "    LOG_STEP = 100\n",
    "\n",
    "# PATHS\n",
    "paths = {\n",
    "    \"Training\":\"/home/wesleytocs/.kaggle/competitions/digit-recognizer/train.csv\",\n",
    "    \"Testing\":\"/home/wesleytocs/.kaggle/competitions/digit-recognizer/test.csv\",\n",
    "    \"Submission\":\"/home/wesleytocs/.kaggle/competitions/digit-recognizer/sample_submission.csv\",\n",
    "    \"Checkpoints\":\"/tmp/checkpoints/\",\n",
    "    \"Digits\":\"/tmp/checkpoints/Digits/\"\n",
    "}"
   ]
  },
  {
   "cell_type": "code",
   "execution_count": 2,
   "metadata": {
    "collapsed": true
   },
   "outputs": [],
   "source": [
    "def nearest_2(n):\n",
    "    if n < 1:\n",
    "        return 1\n",
    "    l = int(math.log(n, 2))\n",
    "    a, b = 2 ** l, 2 ** (l + 1)\n",
    "    return (a if (n - a) <= (b - n) else b)\n",
    "\n",
    "def display(img, w, h):\n",
    "    one_image = img.reshape(w,h)\n",
    "    plt.axis('off')\n",
    "    plt.imshow(one_image, cmap=cm.binary)\n",
    "    plt.show()\n",
    "    \n",
    "def reset_dirs(dirs = [BOTTLENECK_DIR, BOTTLENECK_TRAIN_DIR, BOTTLENECK_EVAL_DIR, paths[\"Checkpoints\"], paths[\"Digits\"]]):\n",
    "    for p in dirs:\n",
    "        if os.path.isdir(p):\n",
    "            shutil.rmtree(p)\n",
    "    for p in dirs:\n",
    "        if not os.path.isdir(p):\n",
    "            os.mkdir(p)\n",
    "\n",
    "def timer(f, *args):\n",
    "    print(\"Start <{}>: \".format(f.__name__), datetime.now())\n",
    "    start = time.time()\n",
    "    result = f(*args)\n",
    "    end = time.time()\n",
    "    print(\"End: \", datetime.now())\n",
    "    seconds = end - start\n",
    "    days = int(seconds // (60 ** 3))\n",
    "    hours = int((seconds % (60 ** 3)) // (60 ** 2))\n",
    "    minutes = int((seconds % (60 ** 2)) // 60)\n",
    "    seconds %= 60\n",
    "    if days > 0:\n",
    "        print(\"Finished in {:02}:{:02}:{:02}:{:07.4f}\".format(days, hours, minutes, seconds))\n",
    "    if hours > 0:\n",
    "        print(\"Finished in {:02}:{:02}:{:07.4f}\".format(hours, minutes, seconds))\n",
    "    if minutes > 0:\n",
    "        print(\"Finished in {:02}:{:07.4f}\".format(minutes, seconds))\n",
    "    else:\n",
    "        print(\"Finished in {} seconds\".format(seconds))\n",
    "    return result\n",
    "\n",
    "def add_img_decoding(module_spec):                                       \n",
    "    input_height, input_width = hub.get_expected_image_size(module_spec)\n",
    "    input_depth = hub.get_num_image_channels(module_spec)\n",
    "    img_data = tf.placeholder(tf.int32, name='DecodeImgInput')\n",
    "    decoded_image = tf.image.grayscale_to_rgb(img_data)\n",
    "    # Convert from full range of uint8 to range [0,1] of float32.\n",
    "    decoded_image_as_float = tf.image.convert_image_dtype(decoded_image, tf.float32)\n",
    "    decoded_image_4d = tf.expand_dims(decoded_image_as_float, 0)\n",
    "    resize_shape = tf.stack([input_height, input_width])\n",
    "    resize_shape_as_int = tf.cast(resize_shape, dtype=tf.int32)\n",
    "    resized_image = tf.image.resize_bilinear(decoded_image_4d,\n",
    "                                           resize_shape_as_int)\n",
    "    return img_data, resized_image\n",
    "\n",
    "def process_bottlenecks(df, bdir):\n",
    "    with tf.Session(graph=graph) as sess:\n",
    "        # Initialize all weights: for the module to their pretrained values,\n",
    "        # and for the newly added retraining layer to random initial values.\n",
    "        init = tf.global_variables_initializer()\n",
    "        sess.run(init)\n",
    "        \n",
    "        # Set up the image decoding sub-graph.\n",
    "        image_data_tensor, decoded_image_tensor = add_img_decoding(module_spec)\n",
    "\n",
    "        # Compute bottleneck features.\n",
    "        for index, row in df.iterrows():\n",
    "            bottleneck_path = os.path.join(bdir, str(index) + '.txt')\n",
    "            if not os.path.exists(bottleneck_path):\n",
    "                image_data = np.asarray(row, dtype=np.int32)\n",
    "                image_data.shape = (28, 28, 1)\n",
    "                if (index + 1) % VERBOSITY == 0:\n",
    "                    print(\"\\tCreated {}th bottleneck\".format(index + 1))\n",
    "                    display(image_data, 28, 28)\n",
    "                try:\n",
    "                    # First resize it, and rescale the pixel values.\n",
    "                    resized_input_values = sess.run(decoded_image_tensor,\n",
    "                                                    {image_data_tensor: image_data})\n",
    "                    # Then run it through the module\n",
    "                    bottleneck_values = sess.run(bottleneck_tensor,\n",
    "                                                 {resized_input_tensor: resized_input_values})\n",
    "                    bottleneck_values = np.squeeze(bottleneck_values)\n",
    "                except Exception as e:\n",
    "                    raise RuntimeError('Error during processing image index %s (%s)' % (index,\n",
    "                                                                                 str(e)))\n",
    "                bottleneck_string = ','.join(str(x) for x in bottleneck_values)\n",
    "                with open(bottleneck_path, 'w') as bottleneck_file:\n",
    "                    bottleneck_file.write(bottleneck_string)\n",
    "            else:\n",
    "                if (index + 1) % VERBOSITY == 0:\n",
    "                    print(\"\\tRead {}th bottleneck\".format(index + 1))\n",
    "\n",
    "def make_new_dataframe_from_bottlenecks(bdir):\n",
    "    bottlenecked_data = pd.DataFrame()\n",
    "    counter = 1\n",
    "    for file in os.listdir(bdir):\n",
    "        if counter % VERBOSITY == 0:\n",
    "            print(\"\\tProcessed {}th bottleneck\".format(counter))\n",
    "        counter += 1\n",
    "        new = pd.read_csv(os.path.join(bdir, file), sep=\",\", header=None)\n",
    "        new.index = [int(file[:-4])]\n",
    "        #print(\"NEW: \", new)\n",
    "        bottlenecked_data = pd.concat([bottlenecked_data, new])\n",
    "    return bottlenecked_data"
   ]
  },
  {
   "cell_type": "code",
   "execution_count": 3,
   "metadata": {
    "collapsed": true
   },
   "outputs": [],
   "source": [
    "def display(img, w, h):\n",
    "    one_image = img.reshape(w,h)\n",
    "    plt.axis('off')\n",
    "    plt.imshow(one_image, cmap=cm.binary)\n",
    "    plt.show()\n",
    "\n",
    "def mobilenet_model_fn(features, labels, mode):\n",
    "    logits = tf.layers.dense(inputs=features, units=10)\n",
    "    saver = tf.train.Saver()\n",
    "    predictions = {\n",
    "        # Generate predictions (for PREDICT and EVAL mode)\n",
    "        \"classes\": tf.argmax(input=logits, axis=1),\n",
    "        # Add `softmax_tensor` to the graph. It is used for PREDICT and by the\n",
    "        # `logging_hook`.\n",
    "        \"probabilities\": tf.nn.softmax(logits, name=\"softmax_tensor\")\n",
    "    }\n",
    "\n",
    "    if mode == tf.estimator.ModeKeys.PREDICT:\n",
    "        return tf.estimator.EstimatorSpec(mode=mode, predictions=predictions)\n",
    "\n",
    "    # Calculate Loss (for both TRAIN and EVAL modes)\n",
    "    loss = tf.losses.sparse_softmax_cross_entropy(labels=labels, logits=logits)\n",
    "    predictions[\"loss\"] = loss\n",
    "\n",
    "    # Configure the Training Op (for TRAIN mode)\n",
    "    if mode == tf.estimator.ModeKeys.TRAIN:\n",
    "        optimizer = tf.train.GradientDescentOptimizer(learning_rate=LEARNING_RATE)\n",
    "        train_op = optimizer.minimize(\n",
    "            loss=loss,\n",
    "            global_step=tf.train.get_global_step())\n",
    "        return tf.estimator.EstimatorSpec(mode=mode, loss=loss, train_op=train_op)\n",
    "\n",
    "    # Add evaluation metrics (for EVAL mode)\n",
    "    eval_metric_ops = {\n",
    "        \"accuracy\": tf.metrics.accuracy(\n",
    "            labels=labels, predictions=predictions[\"classes\"])}\n",
    "    return tf.estimator.EstimatorSpec(\n",
    "        mode=mode, loss=loss, eval_metric_ops=eval_metric_ops)"
   ]
  },
  {
   "cell_type": "code",
   "execution_count": 4,
   "metadata": {
    "collapsed": true
   },
   "outputs": [],
   "source": [
    "# TF Hub setup\n",
    "module_spec = hub.load_module_spec(TFHUB_MODULE)\n",
    "height, width = hub.get_expected_image_size(module_spec)\n",
    "with tf.Graph().as_default() as graph:\n",
    "    resized_input_tensor = tf.placeholder(tf.float32, [None, height, width, 3])\n",
    "    m = hub.Module(module_spec)\n",
    "    bottleneck_tensor = m(resized_input_tensor)"
   ]
  },
  {
   "cell_type": "code",
   "execution_count": 5,
   "metadata": {},
   "outputs": [
    {
     "data": {
      "image/png": "[encoded data removed]",
      "text/plain": [
       "<matplotlib.figure.Figure at 0x7eff71f78630>"
      ]
     },
     "metadata": {},
     "output_type": "display_data"
    }
   ],
   "source": [
    "# Read in the raw data\n",
    "train_data = pd.read_csv(paths[\"Training\"], sep=\",\").astype(np.int32)\n",
    "\n",
    "# Make some purdy pictures\n",
    "ax = sns.countplot(x=\"label\", data=train_data)\n",
    "ax.set_title(\"Digit Counts\")\n",
    "plt.show()\n",
    "\n",
    "# Setup labels and eval data\n",
    "train_labels = train_data.pop(\"label\")\n",
    "eval_data = pd.read_csv(paths[\"Testing\"], sep=\",\").astype(np.int32)\n",
    "eval_labels = pd.read_csv(paths[\"Submission\"], sep=\",\").astype(np.int32).pop(\"Label\")\n",
    "\n",
    "# Setup for TEST mode\n",
    "if TEST: # this occurs BEFORE randomization! This assumes that the input is uniformly distributed. Plan accordingly\n",
    "    train_data = train_data.head(test_size)\n",
    "    train_labels = train_labels.head(test_size)\n",
    "    eval_data = eval_data.head(test_size)\n",
    "    eval_labels = eval_labels.head(test_size)\n",
    "\n",
    "# Reset the directories, if necessary\n",
    "if RESET_ALL:\n",
    "    reset_dirs()"
   ]
  },
  {
   "cell_type": "code",
   "execution_count": 6,
   "metadata": {},
   "outputs": [
    {
     "name": "stdout",
     "output_type": "stream",
     "text": [
      "Making Training and Validation Bottlenecks\n",
      "Start <process_bottlenecks>:  2018-07-04 19:16:38.437492\n",
      "\tCreated 100th bottleneck\n"
     ]
    },
    {
     "data": {
      "image/png": "[encoded data removed]",
      "text/plain": [
       "<matplotlib.figure.Figure at 0x7eff71d1cf98>"
      ]
     },
     "metadata": {},
     "output_type": "display_data"
    },
    {
     "name": "stdout",
     "output_type": "stream",
     "text": [
      "\tCreated 200th bottleneck\n"
     ]
    },
    {
     "data": {
      "image/png": "[encoded data removed]",
      "text/plain": [
       "<matplotlib.figure.Figure at 0x7eff708d97b8>"
      ]
     },
     "metadata": {},
     "output_type": "display_data"
    },
    {
     "name": "stdout",
     "output_type": "stream",
     "text": [
      "End:  2018-07-04 19:16:45.491314\n",
      "Finished in 7.053462505340576 seconds\n",
      "\n",
      "Making Evaluation/Testing Bottlenecks\n",
      "Start <process_bottlenecks>:  2018-07-04 19:16:45.492548\n",
      "\tCreated 100th bottleneck\n"
     ]
    },
    {
     "data": {
      "image/png": "[encoded data removed]",
      "text/plain": [
       "<matplotlib.figure.Figure at 0x7eff7096c390>"
      ]
     },
     "metadata": {},
     "output_type": "display_data"
    },
    {
     "name": "stdout",
     "output_type": "stream",
     "text": [
      "\tCreated 200th bottleneck\n"
     ]
    },
    {
     "data": {
      "image/png": "[encoded data removed]",
      "text/plain": [
       "<matplotlib.figure.Figure at 0x7eff70c659b0>"
      ]
     },
     "metadata": {},
     "output_type": "display_data"
    },
    {
     "name": "stdout",
     "output_type": "stream",
     "text": [
      "End:  2018-07-04 19:16:51.953438\n",
      "Finished in 6.460651397705078 seconds\n"
     ]
    }
   ],
   "source": [
    "# Pre-calculate bottlenecks\n",
    "print(\"Making Training and Validation Bottlenecks\")\n",
    "timer(process_bottlenecks, train_data, BOTTLENECK_TRAIN_DIR)\n",
    "print(\"\\nMaking Evaluation/Testing Bottlenecks\")\n",
    "timer(process_bottlenecks, eval_data, BOTTLENECK_EVAL_DIR)"
   ]
  },
  {
   "cell_type": "code",
   "execution_count": 7,
   "metadata": {},
   "outputs": [
    {
     "name": "stdout",
     "output_type": "stream",
     "text": [
      "Making bottlenecked training dataset\n",
      "Start <make_new_dataframe_from_bottlenecks>:  2018-07-04 19:16:51.962512\n",
      "\tProcessed 100th bottleneck\n",
      "\tProcessed 200th bottleneck\n",
      "End:  2018-07-04 19:17:00.097076\n",
      "Finished in 8.134432315826416 seconds\n",
      "\n",
      "Making bottlenecked evaluation dataset\n",
      "Start <make_new_dataframe_from_bottlenecks>:  2018-07-04 19:17:00.097799\n",
      "\tProcessed 100th bottleneck\n",
      "\tProcessed 200th bottleneck\n",
      "End:  2018-07-04 19:17:08.414057\n",
      "Finished in 8.316095113754272 seconds\n"
     ]
    }
   ],
   "source": [
    "# Build a dataframe from the bottleneck values\n",
    "print(\"Making bottlenecked training dataset\")\n",
    "train_data = timer(make_new_dataframe_from_bottlenecks, BOTTLENECK_TRAIN_DIR)\n",
    "print(\"\\nMaking bottlenecked evaluation dataset\")\n",
    "eval_data = timer(make_new_dataframe_from_bottlenecks, BOTTLENECK_EVAL_DIR)"
   ]
  },
  {
   "cell_type": "code",
   "execution_count": 8,
   "metadata": {
    "collapsed": true
   },
   "outputs": [],
   "source": [
    "# Shuffle the training and validation data\n",
    "idx = np.random.permutation(train_data.index)\n",
    "train_data = train_data.reindex(idx)\n",
    "train_labels = train_labels.reindex(idx)"
   ]
  },
  {
   "cell_type": "code",
   "execution_count": 9,
   "metadata": {},
   "outputs": [
    {
     "data": {
      "image/png": "[encoded data removed]",
      "text/plain": [
       "<matplotlib.figure.Figure at 0x7eff708ea828>"
      ]
     },
     "metadata": {},
     "output_type": "display_data"
    }
   ],
   "source": [
    "# Make a validation set from the training data (80/20)\n",
    "train_data = np.asarray(train_data)\n",
    "train_labels = np.asarray(train_labels)\n",
    "eval_data = np.asarray(eval_data)\n",
    "t_size = int(0.8 * train_data.shape[0])\n",
    "validation_labels = train_labels[t_size:]\n",
    "train_labels = train_labels[:t_size]\n",
    "validation_data = train_data[t_size:]\n",
    "train_data = train_data[:t_size]\n",
    "\n",
    "# Plot the remaining labels to check for relatively uniform distribution\n",
    "plt.hist(train_labels)\n",
    "plt.title(\"Digits in Training subset\")\n",
    "plt.show()"
   ]
  },
  {
   "cell_type": "code",
   "execution_count": 10,
   "metadata": {},
   "outputs": [
    {
     "name": "stdout",
     "output_type": "stream",
     "text": [
      "TRAINING DATA\n",
      "(160, 1280) <class 'numpy.ndarray'>\n",
      "[[ 0.        0.466443  0.604599 ...,  0.        0.13084   0.      ]\n",
      " [ 0.        0.466445  0.6046   ...,  0.        0.130841  0.      ]\n",
      " [ 0.        0.466442  0.604599 ...,  0.        0.130839  0.      ]\n",
      " ..., \n",
      " [ 0.        0.466443  0.604599 ...,  0.        0.13084   0.      ]\n",
      " [ 0.        0.466443  0.604599 ...,  0.        0.130839  0.      ]\n",
      " [ 0.        0.466443  0.604596 ...,  0.        0.130839  0.      ]]\n",
      "---------------------------------------- \n",
      "TRAINING LABELS\n",
      "(160,) <class 'numpy.ndarray'> int32\n",
      "---------------------------------------- \n",
      "VALIDATION DATA\n",
      "(40, 1280) <class 'numpy.ndarray'>\n",
      "[[ 0.        0.466442  0.604594 ...,  0.        0.130838  0.      ]\n",
      " [ 0.        0.466442  0.604598 ...,  0.        0.130838  0.      ]\n",
      " [ 0.        0.466444  0.604596 ...,  0.        0.130839  0.      ]\n",
      " ..., \n",
      " [ 0.        0.466441  0.604598 ...,  0.        0.13084   0.      ]\n",
      " [ 0.        0.466442  0.604599 ...,  0.        0.130841  0.      ]\n",
      " [ 0.        0.466441  0.604596 ...,  0.        0.130839  0.      ]]\n",
      "---------------------------------------- \n",
      "VALIDATION LABELS\n",
      "(40,) <class 'numpy.ndarray'> int32\n",
      "---------------------------------------- \n",
      "EVALUATION DATA\n",
      "(200, 1280) <class 'numpy.ndarray'>\n",
      "---------------------------------------- \n",
      "EVALUATION LABELS\n",
      "(200,) <class 'pandas.core.series.Series'> int32\n",
      "0      0\n",
      "1      0\n",
      "2      0\n",
      "3      0\n",
      "4      0\n",
      "      ..\n",
      "195    0\n",
      "196    0\n",
      "197    0\n",
      "198    0\n",
      "199    0\n",
      "Name: Label, Length: 200, dtype: int32\n",
      "{0}\n"
     ]
    }
   ],
   "source": [
    "# Sanity check on the data\n",
    "print(\"TRAINING DATA\")\n",
    "print(train_data.shape, type(train_data))\n",
    "print(train_data)\n",
    "print(\"-\" * 40, \"\\nTRAINING LABELS\")\n",
    "print(train_labels.shape, type(train_labels), train_labels.dtype)\n",
    "print(\"-\" * 40, \"\\nVALIDATION DATA\")\n",
    "print(validation_data.shape, type(validation_data))\n",
    "print(validation_data)\n",
    "print(\"-\" * 40, \"\\nVALIDATION LABELS\")\n",
    "print(validation_labels.shape, type(validation_labels), validation_labels.dtype)\n",
    "print(\"-\" * 40, \"\\nEVALUATION DATA\")\n",
    "print(eval_data.shape, type(eval_data))\n",
    "print(\"-\" * 40, \"\\nEVALUATION LABELS\")\n",
    "print(eval_labels.shape, type(eval_labels), eval_labels.dtype)\n",
    "print(eval_labels)\n",
    "print(set(eval_labels))"
   ]
  },
  {
   "cell_type": "code",
   "execution_count": 11,
   "metadata": {
    "collapsed": true
   },
   "outputs": [],
   "source": [
    "# Create the Estimator\n",
    "classifier = tf.estimator.Estimator(\n",
    "    model_fn=mobilenet_model_fn, model_dir=paths[\"Checkpoints\"])"
   ]
  },
  {
   "cell_type": "code",
   "execution_count": 12,
   "metadata": {
    "collapsed": true
   },
   "outputs": [],
   "source": [
    "# Create Input Functions for the three modes\n",
    "train_input_fn = tf.estimator.inputs.numpy_input_fn(\n",
    "    x=train_data,\n",
    "    y=train_labels,\n",
    "    batch_size=BATCH_SIZE,\n",
    "    num_epochs=None,\n",
    "    shuffle=True)\n",
    "\n",
    "training_eval_input_fn = tf.estimator.inputs.numpy_input_fn(\n",
    "    x=train_data,\n",
    "    y=train_labels,\n",
    "    num_epochs=1,\n",
    "    shuffle=False)\n",
    "\n",
    "validation_eval_input_fn = tf.estimator.inputs.numpy_input_fn(\n",
    "    x=validation_data,\n",
    "    y=validation_labels,\n",
    "    num_epochs=1,\n",
    "    shuffle=False)"
   ]
  },
  {
   "cell_type": "code",
   "execution_count": 13,
   "metadata": {},
   "outputs": [
    {
     "name": "stdout",
     "output_type": "stream",
     "text": [
      "Training model...\n",
      "Metrics:\n",
      "\tPERIOD\tTYPE\tTRAIN.\tVALID.\n",
      "\t0\tLgLs\t2.29\t2.38\n",
      "\t\tAcc.\t11.25%\t5.00%\n",
      "\n",
      "\t1\tLgLs\t2.31\t2.41\n",
      "\t\tAcc.\t13.12%\t7.50%\n",
      "\n",
      "\t2\tLgLs\t2.32\t2.37\n",
      "\t\tAcc.\t11.25%\t5.00%\n",
      "\n",
      "\t3\tLgLs\t2.29\t2.40\n",
      "\t\tAcc.\t13.12%\t7.50%\n",
      "\n",
      "\t4\tLgLs\t2.28\t2.43\n",
      "\t\tAcc.\t13.12%\t7.50%\n",
      "\n",
      "\t5\tLgLs\t2.33\t2.34\n",
      "\t\tAcc.\t8.75%\t17.50%\n",
      "\n",
      "\t6\tLgLs\t2.30\t2.33\n",
      "\t\tAcc.\t11.25%\t10.00%\n",
      "\n",
      "\t7\tLgLs\t2.35\t2.32\n",
      "\t\tAcc.\t8.75%\t7.50%\n",
      "\n",
      "\t8\tLgLs\t2.32\t2.39\n",
      "\t\tAcc.\t8.75%\t10.00%\n",
      "\n",
      "\t9\tLgLs\t2.32\t2.36\n",
      "\t\tAcc.\t13.12%\t7.50%\n",
      "\n"
     ]
    }
   ],
   "source": [
    "# Train the model\n",
    "logging_hook = tf.train.LoggingTensorHook({\"loss\" : \"loss\"}, every_n_iter=10)\n",
    "periods = LEARNING_STEPS // 100\n",
    "steps_per_period = LEARNING_STEPS // periods\n",
    "t_accs = []\n",
    "v_accs = []\n",
    "t_lls = []\n",
    "v_lls = []\n",
    "print(\"Training model...\\nMetrics:\")\n",
    "print(\"\\tPERIOD\\tTYPE\\tTRAIN.\\tVALID.\")\n",
    "for period in range(periods):\n",
    "    classifier.train(\n",
    "        input_fn=train_input_fn,\n",
    "        steps=steps_per_period,\n",
    "        hooks=[logging_hook])\n",
    "    training_stats = classifier.evaluate(input_fn=training_eval_input_fn)\n",
    "    validation_stats = classifier.evaluate(input_fn=validation_eval_input_fn)\n",
    "    t_ll = training_stats[\"loss\"]\n",
    "    t_acc = 100 * training_stats[\"accuracy\"]\n",
    "    v_ll = validation_stats[\"loss\"]\n",
    "    v_acc = 100 * validation_stats[\"accuracy\"]\n",
    "    print(\"\\t{}\\tLgLs\\t{:.2f}\\t{:.2f}\".format(period, t_ll, v_ll))\n",
    "    print(\"\\t\\tAcc.\\t{:.2f}%\\t{:.2f}%\\n\".format(t_acc, v_acc))\n",
    "    t_lls.append(t_ll);\n",
    "    v_lls.append(v_ll)\n",
    "    t_accs.append(t_acc)\n",
    "    v_accs.append(v_acc)\n",
    "accuracy = classifier.evaluate(input_fn=validation_eval_input_fn)[\"accuracy\"] * 100"
   ]
  },
  {
   "cell_type": "code",
   "execution_count": 14,
   "metadata": {},
   "outputs": [
    {
     "name": "stdout",
     "output_type": "stream",
     "text": [
      "Final accuracy (on validation data): 7.5000%\n"
     ]
    },
    {
     "data": {
      "image/png": "[encoded data removed]",
      "text/plain": [
       "<matplotlib.figure.Figure at 0x7eff70b0ba20>"
      ]
     },
     "metadata": {},
     "output_type": "display_data"
    },
    {
     "data": {
      "image/png": "[encoded data removed]",
      "text/plain": [
       "<matplotlib.figure.Figure at 0x7eff639eec50>"
      ]
     },
     "metadata": {},
     "output_type": "display_data"
    },
    {
     "data": {
      "image/png": "[encoded data removed]",
      "text/plain": [
       "<matplotlib.figure.Figure at 0x7eff63972518>"
      ]
     },
     "metadata": {},
     "output_type": "display_data"
    }
   ],
   "source": [
    "print(\"Final accuracy (on validation data): {:.4f}%\".format(accuracy))\n",
    "\n",
    "# Output a graph of loss metrics over periods.\n",
    "plt.ylabel(\"LogLoss\")\n",
    "plt.xlabel(\"Periods\")\n",
    "plt.title(\"LogLoss vs. Periods\")\n",
    "plt.plot(t_lls, label=\"training\")\n",
    "plt.plot(v_lls, label=\"validation\")\n",
    "plt.legend()\n",
    "plt.show()\n",
    "\n",
    "# Output a graph of accuracy over periods.\n",
    "plt.ylabel(\"Accuracy\")\n",
    "plt.xlabel(\"Periods\")\n",
    "plt.title(\"Accuracy vs. Periods\")\n",
    "plt.plot(t_accs, label=\"training\")\n",
    "plt.plot(v_accs, label=\"validation\")\n",
    "plt.legend()\n",
    "plt.show()\n",
    "\n",
    "# Output a plot of the confusion matrix.\n",
    "predictions = np.array([item['classes'] for item in classifier.predict(input_fn=validation_eval_input_fn)])\n",
    "cm = confusion_matrix(validation_labels, predictions)\n",
    "\n",
    "# Normalize the confusion matrix by row (i.e by the number of samples\n",
    "# in each class).\n",
    "cm_normalized = cm.astype(\"float\") / cm.sum(axis=1)[:, np.newaxis]\n",
    "ax = sns.heatmap(cm_normalized, cmap=\"bone_r\")\n",
    "ax.set_aspect(1)\n",
    "plt.title(\"Confusion matrix\")\n",
    "plt.ylabel(\"True label\")\n",
    "plt.xlabel(\"Predicted label\")\n",
    "plt.show()"
   ]
  },
  {
   "cell_type": "code",
   "execution_count": 15,
   "metadata": {},
   "outputs": [
    {
     "name": "stdout",
     "output_type": "stream",
     "text": [
      "INFO:tensorflow:Calling model_fn.\n",
      "INFO:tensorflow:Done calling model_fn.\n",
      "INFO:tensorflow:Starting evaluation at 2018-07-04-19:17:26\n",
      "INFO:tensorflow:Graph was finalized.\n",
      "INFO:tensorflow:Restoring parameters from /tmp/checkpoints/model.ckpt-1000\n",
      "INFO:tensorflow:Running local_init_op.\n",
      "INFO:tensorflow:Done running local_init_op.\n",
      "INFO:tensorflow:Finished evaluation at 2018-07-04-19:17:26\n",
      "INFO:tensorflow:Saving dict for global step 1000: accuracy = 1.0, global_step = 1000, loss = 1.65675\n",
      "Accuracy on evaluation data (expected ~10%): 100.00%\n"
     ]
    }
   ],
   "source": [
    "# Evaluate the model and print results\n",
    "tf.logging.set_verbosity(tf.logging.INFO)\n",
    "eval_input_fn = tf.estimator.inputs.numpy_input_fn(\n",
    "    x=eval_data,\n",
    "    y=eval_labels,\n",
    "    num_epochs=1,\n",
    "    shuffle=False)\n",
    "stats = classifier.evaluate(input_fn=eval_input_fn)\n",
    "t_accuracy = 100 * stats[\"accuracy\"]\n",
    "print(\"Accuracy on evaluation data (expected ~10%): {:.2f}%\".format(t_accuracy))"
   ]
  },
  {
   "cell_type": "code",
   "execution_count": 16,
   "metadata": {},
   "outputs": [
    {
     "name": "stdout",
     "output_type": "stream",
     "text": [
      "INFO:tensorflow:Calling model_fn.\n",
      "INFO:tensorflow:Done calling model_fn.\n",
      "INFO:tensorflow:Graph was finalized.\n",
      "INFO:tensorflow:Restoring parameters from /tmp/checkpoints/model.ckpt-1000\n",
      "INFO:tensorflow:Running local_init_op.\n",
      "INFO:tensorflow:Done running local_init_op.\n"
     ]
    }
   ],
   "source": [
    "# Make Predictions and output the results\n",
    "predictions = np.array([item['classes'] for item in classifier.predict(input_fn=eval_input_fn)])\n",
    "ids = np.array([i + 1 for i in range(len(predictions))])\n",
    "output = pd.DataFrame({id_label:ids, target_label:predictions}, dtype=np.int32)"
   ]
  },
  {
   "cell_type": "code",
   "execution_count": 17,
   "metadata": {},
   "outputs": [
    {
     "name": "stdout",
     "output_type": "stream",
     "text": [
      "Filename: 'A7.5000_TypeTLNN_LR0.01_S1000_B50_mobilenetv2-96.csv'\n"
     ]
    }
   ],
   "source": [
    "name = OUTSTR.format(accuracy, TYPE, LEARNING_RATE, LEARNING_STEPS, BATCH_SIZE,\"_\" + NOTES if NOTES else \"\")\n",
    "print(\"Filename: '{}'\".format(name))\n",
    "if not TEST:\n",
    "    output.to_csv(name, index=False)"
   ]
  }
 ],
 "metadata": {
  "kernelspec": {
   "display_name": "Python 3",
   "language": "python",
   "name": "python3"
  },
  "language_info": {
   "codemirror_mode": {
    "name": "ipython",
    "version": 3
   },
   "file_extension": ".py",
   "mimetype": "text/x-python",
   "name": "python",
   "nbconvert_exporter": "python",
   "pygments_lexer": "ipython3",
   "version": "3.5.4"
  }
 },
 "nbformat": 4,
 "nbformat_minor": 2
}
